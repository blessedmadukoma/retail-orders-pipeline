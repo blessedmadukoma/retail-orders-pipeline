{
 "cells": [
  {
   "cell_type": "code",
   "execution_count": 6,
   "metadata": {},
   "outputs": [
    {
     "name": "stdout",
     "output_type": "stream",
     "text": [
      "Warning: Your Kaggle API key is readable by other users on this system! To fix this, you can run 'chmod 600 /Users/blessedmadukoma/.kaggle/kaggle.json'\n",
      "Dataset URL: https://www.kaggle.com/datasets/ankitbansal06/retail-orders\n",
      "License(s): CC0-1.0\n",
      "Downloading orders.csv.zip to dataset\n",
      "100%|█████████████████████████████████████████| 200k/200k [00:01<00:00, 200kB/s]\n",
      "100%|█████████████████████████████████████████| 200k/200k [00:01<00:00, 200kB/s]\n"
     ]
    }
   ],
   "source": [
    "import kaggle\n",
    "\n",
    "!kaggle datasets download ankitbansal06/retail-orders -f orders.csv -p dataset"
   ]
  },
  {
   "cell_type": "code",
   "execution_count": 18,
   "metadata": {},
   "outputs": [],
   "source": [
    "# extract the dataset\n",
    "import zipfile\n",
    "zip_ref = zipfile.ZipFile('dataset/orders.csv.zip')\n",
    "zip_ref.extractall('./dataset')\n",
    "zip_ref.close()"
   ]
  }
 ],
 "metadata": {
  "kernelspec": {
   "display_name": "env",
   "language": "python",
   "name": "python3"
  },
  "language_info": {
   "codemirror_mode": {
    "name": "ipython",
    "version": 3
   },
   "file_extension": ".py",
   "mimetype": "text/x-python",
   "name": "python",
   "nbconvert_exporter": "python",
   "pygments_lexer": "ipython3",
   "version": "3.12.4"
  }
 },
 "nbformat": 4,
 "nbformat_minor": 2
}
